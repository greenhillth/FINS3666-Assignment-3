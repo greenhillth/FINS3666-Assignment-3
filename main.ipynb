{
 "cells": [
  {
   "cell_type": "code",
   "execution_count": null,
   "id": "66afd1eb",
   "metadata": {},
   "outputs": [
    {
     "name": "stdout",
     "output_type": "stream",
     "text": [
      "\n",
      "\n",
      "                               Portfolio Overview                               \n",
      "================================================================================\n",
      "Asset         Units        Unit Value    Asset Value       Position    Weight\n",
      "================================================================================\n",
      "AUD           100.00          $0.67         $66.94           Long    33.68%\n",
      "CAD          -200.00          $0.76       $-151.22          Short   -76.07%\n",
      "CHF           273.00          $1.04        $283.06           Long   142.40%\n",
      "\n",
      "Portfolio - 3 assets\n",
      "Unit Price Timestamp: 2020-01-01 00:00:00,\n",
      "Net Value ($USD): $198.78\n"
     ]
    }
   ],
   "source": [
    "from fins3666.defines import *\n",
    "from fins3666.utils import load_dataframe, getExchangeRate, currencyUSDvals\n",
    "from fins3666.portfolio import Portfolio, AssetDict\n",
    "\n",
    "\n",
    "fx = load_dataframe(os.path.join(DIR_DATA_RAW, 'fx-historical-daily.csv'))\n",
    "ir = load_dataframe(os.path.join(DIR_DATA_RAW, 'ir-historical.csv'))\n",
    "\n",
    "# determine correlation between columns of fx\n",
    "correlation = fx.corr()\n",
    "# print(correlation)\n",
    "\n",
    "currs = ['AUD', 'CAD', 'CHF']\n",
    "time = pd.to_datetime('2020-01')\n",
    "\n",
    "\n",
    "SamplePortfolio = Portfolio(\n",
    "    assets=currs, sizes=[100, -200, 273], unit_values=currencyUSDvals(fx, timestamp=time, currencies=currs), timestamp=time)\n",
    "\n",
    "# dict containing -> {name:'str', units:float64, purchase_price:float64, timestamp:datetime[64]}\n",
    "assets = [{}, ]\n",
    "SamplePortfolio.AquireAssets()\n",
    "\n",
    "print(str(SamplePortfolio))\n",
    "\n",
    "\n",
    "'''\n",
    "LEDGER FORMAT\n",
    "    'OpenTimestamp': pd.Series(dtype='pd.datetime64[ns]'),\n",
    "    'UpdateTimestamp': pd.Series(dtype='pd.datetime64[ns]'),\n",
    "    'Asset': pd.Series(dtype='str'),\n",
    "    'Units': pd.Series(dtype='float64'),\n",
    "    'UnitWAP': pd.Series(dtype='float64'),\n",
    "    'TransactionIdxs': pd.Series(dtype='list'),\n",
    "    'AssetType': pd.Series(dtype='str'),\n",
    "    'CloseTimestamp': pd.Series(dtype='pd.datetime64[ns]'),\n",
    "    'Open': pd.Series(dtype='Bool')})\n",
    "\n",
    "TRADE FORMAT\n",
    "\n",
    "    'Timestamp': pd.Series(dtype='pd.datetime64[ns]'),\n",
    "    'Asset': pd.Series(dtype='str'),\n",
    "    'Units': pd.Series(dtype='float64'),\n",
    "    'UnitPriceUSD': pd.Series(dtype='float64'),\n",
    "    'OrderValueUSD': pd.Series(dtype='float64'),\n",
    "    'ForecastReturn': pd.Series(dtype='float64'),\n",
    "    'i_USD': pd.Series(dtype='float64'),\n",
    "    'OrderType': pd.Series(dtype='str'),\n",
    "    'Exchange': pd.Series(dtype='str'),\n",
    "    'AssetType': pd.Series(dtype='str')})\n",
    "'''"
   ]
  }
 ],
 "metadata": {
  "kernelspec": {
   "display_name": "fins3646",
   "language": "python",
   "name": "python3"
  },
  "language_info": {
   "codemirror_mode": {
    "name": "ipython",
    "version": 3
   },
   "file_extension": ".py",
   "mimetype": "text/x-python",
   "name": "python",
   "nbconvert_exporter": "python",
   "pygments_lexer": "ipython3",
   "version": "3.12.2"
  }
 },
 "nbformat": 4,
 "nbformat_minor": 5
}
