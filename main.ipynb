{
 "cells": [
  {
   "cell_type": "code",
   "execution_count": 1,
   "id": "66afd1eb",
   "metadata": {},
   "outputs": [
    {
     "ename": "SyntaxError",
     "evalue": "invalid syntax (portfolio.py, line 164)",
     "output_type": "error",
     "traceback": [
      "Traceback \u001b[0;36m(most recent call last)\u001b[0m:\n",
      "\u001b[0m  File \u001b[1;32m~/miniconda3/envs/fins3646/lib/python3.12/site-packages/IPython/core/interactiveshell.py:3577\u001b[0m in \u001b[1;35mrun_code\u001b[0m\n    exec(code_obj, self.user_global_ns, self.user_ns)\u001b[0m\n",
      "\u001b[0m  Cell \u001b[1;32mIn[1], line 1\u001b[0m\n    from fins3666.defines import *\u001b[0m\n",
      "\u001b[0m  File \u001b[1;32m/mnt/c/Users/green/OneDrive - UNSW/Subjects/Current Subjects/FINS3666/Assignment03/src/fins3666/__init__.py:3\u001b[0m\n    from .portfolio import *\u001b[0m\n",
      "\u001b[0;36m  File \u001b[0;32m/mnt/c/Users/green/OneDrive - UNSW/Subjects/Current Subjects/FINS3666/Assignment03/src/fins3666/portfolio/__init__.py:1\u001b[0;36m\n\u001b[0;31m    from .portfolio import Portfolio, Order\u001b[0;36m\n",
      "\u001b[0;36m  File \u001b[0;32m/mnt/c/Users/green/OneDrive - UNSW/Subjects/Current Subjects/FINS3666/Assignment03/src/fins3666/portfolio/portfolio.py:164\u001b[0;36m\u001b[0m\n\u001b[0;31m    self.order_log.append[]\u001b[0m\n\u001b[0m                          ^\u001b[0m\n\u001b[0;31mSyntaxError\u001b[0m\u001b[0;31m:\u001b[0m invalid syntax\n"
     ]
    }
   ],
   "source": [
    "from fins3666.defines import *\n",
    "from fins3666.utils import load_dataframe, load_market, format_market_data, current_fx_data\n",
    "from fins3666.portfolio import Portfolio\n",
    "\n",
    "\n",
    "fx = load_market(os.path.join(DIR_DATA_RAW, 'fx-historical-daily.csv'))\n",
    "ir = load_dataframe(os.path.join(DIR_DATA_RAW, 'ir-historical.csv'))\n",
    "\n",
    "startTime = datetime(2001, 1, 1)\n",
    "\n",
    "fx_start = pd.DataFrame(current_fx_data(fx, startTime))\n",
    "\n",
    "\n",
    "startingAssets = [\n",
    "    {'asset': 'USD', 'units': ACCOUNT_SIZE_USD, 'unit_value_USD': 1.0},\n",
    "    {'asset': 'AUD', 'units': 0,\n",
    "        'unit_value_USD': 1/fx_start.loc[fx_start['asset'] == 'AUD', 'mid'].values[0]},\n",
    "    {'asset': 'CAD', 'units': 0,\n",
    "        'unit_value_USD': 1/fx_start.loc[fx_start['asset'] == 'CAD', 'mid'].values[0]},\n",
    "    {'asset': 'CHF', 'units': 0,\n",
    "        'unit_value_USD': 1/fx_start.loc[fx_start['asset'] == 'CHF', 'mid'].values[0]},\n",
    "    {'asset': 'EUR', 'units': 0,\n",
    "        'unit_value_USD': 1/fx_start.loc[fx_start['asset'] == 'EUR', 'mid'].values[0]},\n",
    "    {'asset': 'GBP', 'units': 0,\n",
    "        'unit_value_USD': 1/fx_start.loc[fx_start['asset'] == 'GBP', 'mid'].values[0]},\n",
    "    {'asset': 'JPY', 'units': 0,\n",
    "        'unit_value_USD': 1/fx_start.loc[fx_start['asset'] == 'JPY', 'mid'].values[0]},\n",
    "    {'asset': 'NZD', 'units': 0,\n",
    "        'unit_value_USD': 1/fx_start.loc[fx_start['asset'] == 'NZD', 'mid'].values[0]},\n",
    "    {'asset': 'SEK', 'units': 0,\n",
    "        'unit_value_USD': 1/fx_start.loc[fx_start['asset'] == 'SEK', 'mid'].values[0]},\n",
    "    {'asset': 'NOK', 'units': 0,\n",
    "        'unit_value_USD': 1/fx_start.loc[fx_start['asset'] == 'NOK', 'mid'].values[0]}]\n",
    "\n",
    "SamplePortfolio = Portfolio(startTime, startingAssets)\n",
    "\n",
    "\n",
    "specTime = datetime(2020, 12, 9)\n",
    "\n",
    "formattedData = current_fx_data(fx, specTime)\n",
    "# print('----------------------------------')\n",
    "# for jawn in formattedData:\n",
    "#     for k, v in jawn.items():\n",
    "#         print(f'{k}: {v}')\n",
    "#     print('----------------------------------')\n",
    "dates = pd.date_range(start='2023-01-01', end='2023-01-03', freq='D')\n",
    "\n",
    "for (idx, date) in enumerate(dates):\n",
    "    currentData = current_fx_data(fx, date)\n",
    "    SamplePortfolio.updateMarketData(currentData)\n",
    "    testBuyOrder = Order(asset='AUD', units=1203.80, currency='USD',\n",
    "                         order='buy', timestamp=date, order_type='market')\n",
    "    testSellOrder = Order(asset='AUD', units=1203.80, currency='USD',\n",
    "                          order='sell', timestamp=date, order_type='market')\n",
    "    testBuyOrder1 = Order(asset='CHF', units=1203.80, currency='JPY',\n",
    "                          order='buy', timestamp=date, order_type='market')\n",
    "    testSellOrder1 = Order(asset='CHF', units=1203.80, currency='JPY',\n",
    "                           order='sell', timestamp=date, order_type='market')\n",
    "    SamplePortfolio.new_order(testBuyOrder)\n",
    "    SamplePortfolio.new_order(testSellOrder)\n",
    "    SamplePortfolio.new_order(testBuyOrder1)\n",
    "    SamplePortfolio.new_order(testSellOrder1)\n",
    "\n",
    "    SamplePortfolio.update(date)\n",
    "    print(SamplePortfolio)"
   ]
  },
  {
   "cell_type": "code",
   "execution_count": null,
   "id": "d5144e46",
   "metadata": {},
   "outputs": [
    {
     "name": "stdout",
     "output_type": "stream",
     "text": [
      "¥\n"
     ]
    },
    {
     "data": {
      "text/plain": [
       "\"\\nLEDGER FORMAT\\n    'OpenTimestamp': pd.Series(dtype='pd.datetime64[ns]'),\\n    'UpdateTimestamp': pd.Series(dtype='pd.datetime64[ns]'),\\n    'Asset': pd.Series(dtype='str'),\\n    'Units': pd.Series(dtype='float64'),\\n    'UnitWAP': pd.Series(dtype='float64'),\\n    'TransactionIdxs': pd.Series(dtype='list'),\\n    'AssetType': pd.Series(dtype='str'),\\n    'CloseTimestamp': pd.Series(dtype='pd.datetime64[ns]'),\\n    'Open': pd.Series(dtype='Bool')})\\n\\nTRADE FORMAT\\n\\n    'Timestamp': pd.Series(dtype='pd.datetime64[ns]'),\\n    'Asset': pd.Series(dtype='str'),\\n    'Units': pd.Series(dtype='float64'),\\n    'UnitPriceUSD': pd.Series(dtype='float64'),\\n    'OrderValueUSD': pd.Series(dtype='float64'),\\n    'ForecastReturn': pd.Series(dtype='float64'),\\n    'i_USD': pd.Series(dtype='float64'),\\n    'OrderType': pd.Series(dtype='str'),\\n    'Exchange': pd.Series(dtype='str'),\\n    'AssetType': pd.Series(dtype='str')})\\n\""
      ]
     },
     "execution_count": 2,
     "metadata": {},
     "output_type": "execute_result"
    }
   ],
   "source": [
    "specTime = '2020-12-09'\n",
    "\n",
    "currentData = current_fx_data(fx, date)\n",
    "\n",
    "\n",
    "test = '¥'\n",
    "\n",
    "print(test)\n",
    "\n",
    "\"\"\"\n",
    "LEDGER FORMAT\n",
    "    'OpenTimestamp': pd.Series(dtype='pd.datetime64[ns]'),\n",
    "    'UpdateTimestamp': pd.Series(dtype='pd.datetime64[ns]'),\n",
    "    'Asset': pd.Series(dtype='str'),\n",
    "    'Units': pd.Series(dtype='float64'),\n",
    "    'UnitWAP': pd.Series(dtype='float64'),\n",
    "    'TransactionIdxs': pd.Series(dtype='list'),\n",
    "    'AssetType': pd.Series(dtype='str'),\n",
    "    'CloseTimestamp': pd.Series(dtype='pd.datetime64[ns]'),\n",
    "    'Open': pd.Series(dtype='Bool')})\n",
    "\n",
    "TRADE FORMAT\n",
    "\n",
    "    'Timestamp': pd.Series(dtype='pd.datetime64[ns]'),\n",
    "    'Asset': pd.Series(dtype='str'),\n",
    "    'Units': pd.Series(dtype='float64'),\n",
    "    'UnitPriceUSD': pd.Series(dtype='float64'),\n",
    "    'OrderValueUSD': pd.Series(dtype='float64'),\n",
    "    'ForecastReturn': pd.Series(dtype='float64'),\n",
    "    'i_USD': pd.Series(dtype='float64'),\n",
    "    'OrderType': pd.Series(dtype='str'),\n",
    "    'Exchange': pd.Series(dtype='str'),\n",
    "    'AssetType': pd.Series(dtype='str')})\n",
    "\"\"\""
   ]
  }
 ],
 "metadata": {
  "kernelspec": {
   "display_name": "fins3646",
   "language": "python",
   "name": "python3"
  },
  "language_info": {
   "codemirror_mode": {
    "name": "ipython",
    "version": 3
   },
   "file_extension": ".py",
   "mimetype": "text/x-python",
   "name": "python",
   "nbconvert_exporter": "python",
   "pygments_lexer": "ipython3",
   "version": "3.12.2"
  }
 },
 "nbformat": 4,
 "nbformat_minor": 5
}
