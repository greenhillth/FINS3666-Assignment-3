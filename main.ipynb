{
 "cells": [
  {
   "cell_type": "code",
   "execution_count": null,
   "id": "66afd1eb",
   "metadata": {},
   "outputs": [],
   "source": [
    "from fins3666.defines import *\n",
    "from fins3666.utils import load_dataframe, load_market, format_market_data, current_fx_data\n",
    "from fins3666.portfolio import Portfolio, AssetDict\n",
    "\n",
    "\n",
    "fx = load_market(os.path.join(DIR_DATA_RAW, 'fx-historical-daily.csv'))\n",
    "ir = load_dataframe(os.path.join(DIR_DATA_RAW, 'ir-historical.csv'))\n",
    "\n",
    "startTime = ('2001-01-02')\n",
    "\n",
    "SamplePortfolio = Portfolio(\n",
    "    assets=AssetDict(\n",
    "        name='USD',\n",
    "        units=ACCOUNT_SIZE_USD,\n",
    "        purchase_price=1.0,\n",
    "        timestamp=startTime)\n",
    ")\n",
    "specTime = '2020-12-09'\n",
    "\n",
    "formattedData = current_fx_data(fx, specTime)\n",
    "# print('----------------------------------')\n",
    "# for jawn in formattedData:\n",
    "#     for k, v in jawn.items():\n",
    "#         print(f'{k}: {v}')\n",
    "#     print('----------------------------------')\n",
    "dates = pd.date_range(start='2023-01-01', end='2023-01-03', freq='D')\n",
    "\n",
    "for date in dates:\n",
    "    currentData = current_fx_data(fx, date)\n",
    "    SamplePortfolio.updateMarketData(currentData)\n",
    "    print(SamplePortfolio)"
   ]
  },
  {
   "cell_type": "code",
   "execution_count": null,
   "id": "d5144e46",
   "metadata": {},
   "outputs": [
    {
     "name": "stdout",
     "output_type": "stream",
     "text": [
      "\n",
      "\n",
      "                               Portfolio Overview                               \n",
      "================================================================================\n",
      "Asset         Units        Unit Value    Asset Value       Position    Weight\n",
      "================================================================================\n",
      "0         12000000.00          $1.00 $12,000,000.00           Long   100.00%\n",
      "\n",
      "Portfolio - 1 assets\n",
      "Unit Price Timestamp: 2001-01-02,\n",
      "Net Value ($USD): $12,000,000.00\n"
     ]
    },
    {
     "data": {
      "text/plain": [
       "\"\\nLEDGER FORMAT\\n    'OpenTimestamp': pd.Series(dtype='pd.datetime64[ns]'),\\n    'UpdateTimestamp': pd.Series(dtype='pd.datetime64[ns]'),\\n    'Asset': pd.Series(dtype='str'),\\n    'Units': pd.Series(dtype='float64'),\\n    'UnitWAP': pd.Series(dtype='float64'),\\n    'TransactionIdxs': pd.Series(dtype='list'),\\n    'AssetType': pd.Series(dtype='str'),\\n    'CloseTimestamp': pd.Series(dtype='pd.datetime64[ns]'),\\n    'Open': pd.Series(dtype='Bool')})\\n\\nTRADE FORMAT\\n\\n    'Timestamp': pd.Series(dtype='pd.datetime64[ns]'),\\n    'Asset': pd.Series(dtype='str'),\\n    'Units': pd.Series(dtype='float64'),\\n    'UnitPriceUSD': pd.Series(dtype='float64'),\\n    'OrderValueUSD': pd.Series(dtype='float64'),\\n    'ForecastReturn': pd.Series(dtype='float64'),\\n    'i_USD': pd.Series(dtype='float64'),\\n    'OrderType': pd.Series(dtype='str'),\\n    'Exchange': pd.Series(dtype='str'),\\n    'AssetType': pd.Series(dtype='str')})\\n\""
      ]
     },
     "execution_count": 5,
     "metadata": {},
     "output_type": "execute_result"
    }
   ],
   "source": [
    "\n",
    "\n",
    "print(str(SamplePortfolio))\n",
    "\n",
    "\n",
    "\"\"\"\n",
    "LEDGER FORMAT\n",
    "    'OpenTimestamp': pd.Series(dtype='pd.datetime64[ns]'),\n",
    "    'UpdateTimestamp': pd.Series(dtype='pd.datetime64[ns]'),\n",
    "    'Asset': pd.Series(dtype='str'),\n",
    "    'Units': pd.Series(dtype='float64'),\n",
    "    'UnitWAP': pd.Series(dtype='float64'),\n",
    "    'TransactionIdxs': pd.Series(dtype='list'),\n",
    "    'AssetType': pd.Series(dtype='str'),\n",
    "    'CloseTimestamp': pd.Series(dtype='pd.datetime64[ns]'),\n",
    "    'Open': pd.Series(dtype='Bool')})\n",
    "\n",
    "TRADE FORMAT\n",
    "\n",
    "    'Timestamp': pd.Series(dtype='pd.datetime64[ns]'),\n",
    "    'Asset': pd.Series(dtype='str'),\n",
    "    'Units': pd.Series(dtype='float64'),\n",
    "    'UnitPriceUSD': pd.Series(dtype='float64'),\n",
    "    'OrderValueUSD': pd.Series(dtype='float64'),\n",
    "    'ForecastReturn': pd.Series(dtype='float64'),\n",
    "    'i_USD': pd.Series(dtype='float64'),\n",
    "    'OrderType': pd.Series(dtype='str'),\n",
    "    'Exchange': pd.Series(dtype='str'),\n",
    "    'AssetType': pd.Series(dtype='str')})\n",
    "\"\"\""
   ]
  }
 ],
 "metadata": {
  "kernelspec": {
   "display_name": "fins3646",
   "language": "python",
   "name": "python3"
  },
  "language_info": {
   "codemirror_mode": {
    "name": "ipython",
    "version": 3
   },
   "file_extension": ".py",
   "mimetype": "text/x-python",
   "name": "python",
   "nbconvert_exporter": "python",
   "pygments_lexer": "ipython3",
   "version": "3.12.2"
  }
 },
 "nbformat": 4,
 "nbformat_minor": 5
}
