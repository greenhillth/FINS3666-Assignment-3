{
 "cells": [
  {
   "cell_type": "code",
   "execution_count": null,
   "id": "66afd1eb",
   "metadata": {},
   "outputs": [
    {
     "name": "stdout",
     "output_type": "stream",
     "text": [
      "          USD/SEK   USD/EUR   USD/GBP   USD/JPY   USD/AUD   USD/NZD   USD/CAD  \\\n",
      "USD/SEK  1.000000  0.906894  0.857723  0.762662  0.890306  0.766333  0.906488   \n",
      "USD/EUR  0.906894  1.000000  0.822899  0.681175  0.792881  0.597643  0.883694   \n",
      "USD/GBP  0.857723  0.822899  1.000000  0.428679  0.644336  0.515452  0.783599   \n",
      "USD/JPY  0.762662  0.681175  0.428679  1.000000  0.767654  0.617045  0.706416   \n",
      "USD/AUD  0.890306  0.792881  0.644336  0.767654  1.000000  0.886875  0.917616   \n",
      "USD/NZD  0.766333  0.597643  0.515452  0.617045  0.886875  1.000000  0.716038   \n",
      "USD/CAD  0.906488  0.883694  0.783599  0.706416  0.917616  0.716038  1.000000   \n",
      "USD/CHF -0.274743 -0.244168 -0.551805 -0.036867  0.052913  0.164690 -0.181253   \n",
      "USD/NOK  0.971609  0.902388  0.861306  0.768449  0.861339  0.692073  0.919708   \n",
      "\n",
      "          USD/CHF   USD/NOK  \n",
      "USD/SEK -0.274743  0.971609  \n",
      "USD/EUR -0.244168  0.902388  \n",
      "USD/GBP -0.551805  0.861306  \n",
      "USD/JPY -0.036867  0.768449  \n",
      "USD/AUD  0.052913  0.861339  \n",
      "USD/NZD  0.164690  0.692073  \n",
      "USD/CAD -0.181253  0.919708  \n",
      "USD/CHF  1.000000 -0.387148  \n",
      "USD/NOK -0.387148  1.000000  \n",
      "\n",
      "\n",
      "                               Portfolio Overview                               \n",
      "================================================================================\n",
      "Asset         Units        Unit Value    Asset Value       Position    Weight\n",
      "================================================================================\n",
      "AUD           100.00          $0.67         $66.94           Long    33.68%\n",
      "CAD          -200.00          $0.76       $-151.22          Short   -76.07%\n",
      "CHF           273.00          $1.04        $283.06           Long   142.40%\n",
      "\n",
      "Portfolio - (3 assets)\n",
      "Timestamp: 2020-01-01 00:00:00,\n",
      "Net Value ($USD): $198.78\n"
     ]
    }
   ],
   "source": [
    "from fins3666.defines import *\n",
    "from fins3666.utils import load_dataframe, getExchangeRate, currencyUSDvals\n",
    "from fins3666.portfolio import Portfolio\n",
    "\n",
    "\n",
    "fx = load_dataframe(os.path.join(DIR_DATA_RAW, 'fx-historical.csv'))\n",
    "ir = load_dataframe(os.path.join(DIR_DATA_RAW, 'ir-historical.csv'))\n",
    "\n",
    "# determine correlation between columns of fx\n",
    "correlation = fx.corr()\n",
    "# print(correlation)\n",
    "\n",
    "currs = ['AUD', 'CAD', 'CHF']\n",
    "time = pd.to_datetime('2020-01')\n",
    "\n",
    "\n",
    "AUDportfolio = Portfolio(\n",
    "    assets=currs, sizes=[100, -200, 273], unit_values=currencyUSDvals(fx, timestamp=time, currencies=currs), timestamp=time,)\n",
    "\n",
    "\n",
    "print(AUDportfolio.to_string())"
   ]
  }
 ],
 "metadata": {
  "kernelspec": {
   "display_name": "fins3646",
   "language": "python",
   "name": "python3"
  },
  "language_info": {
   "codemirror_mode": {
    "name": "ipython",
    "version": 3
   },
   "file_extension": ".py",
   "mimetype": "text/x-python",
   "name": "python",
   "nbconvert_exporter": "python",
   "pygments_lexer": "ipython3",
   "version": "3.12.2"
  }
 },
 "nbformat": 4,
 "nbformat_minor": 5
}
